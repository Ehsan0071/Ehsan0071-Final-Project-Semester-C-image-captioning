{
  "cells": [
    {
      "cell_type": "markdown",
      "source": [
        "# Setting Environment"
      ],
      "metadata": {
        "id": "qPugy4zpTMS3"
      },
      "id": "qPugy4zpTMS3"
    },
    {
      "cell_type": "code",
      "source": [
        "!pip install datasets -q\n",
        "!pip install transformers -q\n",
        "!pip install accelerate -q\n",
        "!pip install python-dotenv -q"
      ],
      "metadata": {
        "id": "ZqVSoJ1yTIv_"
      },
      "id": "ZqVSoJ1yTIv_",
      "execution_count": 8,
      "outputs": []
    },
    {
      "cell_type": "code",
      "source": [
        "# Mounting Drive\n",
        "from google.colab import drive\n",
        "drive.mount('/content/drive')"
      ],
      "metadata": {
        "colab": {
          "base_uri": "https://localhost:8080/"
        },
        "id": "R_FDJ8lMTKHj",
        "outputId": "c2f56767-c352-4210-def4-d9129f974dd4"
      },
      "id": "R_FDJ8lMTKHj",
      "execution_count": 3,
      "outputs": [
        {
          "output_type": "stream",
          "name": "stdout",
          "text": [
            "Mounted at /content/drive\n"
          ]
        }
      ]
    },
    {
      "cell_type": "code",
      "source": [
        "import os\n",
        "from dotenv import load_dotenv\n",
        "load_dotenv(\"creds.env\")\n",
        "\n",
        "project_path = os.getenv(\"PROJECT_PATH\")\n",
        "os.chdir(project_path)"
      ],
      "metadata": {
        "id": "OgtF8I2RX63l"
      },
      "id": "OgtF8I2RX63l",
      "execution_count": 9,
      "outputs": []
    },
    {
      "cell_type": "markdown",
      "source": [
        "# Loading Data"
      ],
      "metadata": {
        "id": "Tk4fZVsrYyMz"
      },
      "id": "Tk4fZVsrYyMz"
    },
    {
      "cell_type": "code",
      "source": [
        "import pandas as pd\n",
        "from PIL import Image\n",
        "\n",
        "def load_dataset(image_dir, captions_file):\n",
        "    # Loading the captions into a DataFrame\n",
        "    captions_df = pd.read_csv(captions_file, delimiter=',', header=None, names=['image', 'caption'])\n",
        "\n",
        "    # Dictionary to store the images and captions\n",
        "    dataset = {}\n",
        "\n",
        "    # Looping through the DataFrame and load images\n",
        "    for index, row in captions_df.iterrows():\n",
        "        image_path = os.path.join(image_dir, row['image'])\n",
        "        try:\n",
        "            image = Image.open(image_path)\n",
        "            # Store the image and caption in the dictionary\n",
        "            dataset[row['image']] = {'image': image, 'caption': row['caption']}\n",
        "        except IOError:\n",
        "            print(f\"Error opening {image_path}\")\n",
        "\n",
        "    return dataset\n",
        "\n",
        "image_dir = 'data/images'\n",
        "captions_file = 'data/captions.txt'\n",
        "\n",
        "# Loading the dataset\n",
        "dataset = load_dataset(image_dir, captions_file)\n",
        "print(\"Dataset loaded successfully.\")"
      ],
      "metadata": {
        "id": "OE9ZcB9pTEea"
      },
      "id": "OE9ZcB9pTEea",
      "execution_count": null,
      "outputs": []
    },
    {
      "cell_type": "code",
      "source": [
        "# Displaying an example\n",
        "image_name = list(dataset.keys())[0]\n",
        "image = dataset[image_name]['image']\n",
        "caption = dataset[image_name]['caption']\n",
        "\n",
        "# Display the image and caption\n",
        "print(\"Image:\", image_name)\n",
        "print(\"Caption:\", caption)\n",
        "image.show()"
      ],
      "metadata": {
        "id": "f6QwaiAiZeEv"
      },
      "id": "f6QwaiAiZeEv",
      "execution_count": null,
      "outputs": []
    }
  ],
  "metadata": {
    "kernelspec": {
      "display_name": "Python 3 (ipykernel)",
      "language": "python",
      "name": "python3"
    },
    "language_info": {
      "codemirror_mode": {
        "name": "ipython",
        "version": 3
      },
      "file_extension": ".py",
      "mimetype": "text/x-python",
      "name": "python",
      "nbconvert_exporter": "python",
      "pygments_lexer": "ipython3",
      "version": "3.11.7"
    },
    "colab": {
      "provenance": []
    }
  },
  "nbformat": 4,
  "nbformat_minor": 5
}